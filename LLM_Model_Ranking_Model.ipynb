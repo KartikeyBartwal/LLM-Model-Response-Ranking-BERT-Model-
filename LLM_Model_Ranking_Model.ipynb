{
  "nbformat": 4,
  "nbformat_minor": 0,
  "metadata": {
    "colab": {
      "provenance": [],
      "authorship_tag": "ABX9TyNVPGZtgVh4XJ5bnkEq28s4",
      "include_colab_link": true
    },
    "kernelspec": {
      "name": "python3",
      "display_name": "Python 3"
    },
    "language_info": {
      "name": "python"
    }
  },
  "cells": [
    {
      "cell_type": "markdown",
      "metadata": {
        "id": "view-in-github",
        "colab_type": "text"
      },
      "source": [
        "<a href=\"https://colab.research.google.com/github/KartikeyBartwal/LLM-Model-Response-Ranking-BERT-Model-/blob/main/LLM_Model_Ranking_Model.ipynb\" target=\"_parent\"><img src=\"https://colab.research.google.com/assets/colab-badge.svg\" alt=\"Open In Colab\"/></a>"
      ]
    },
    {
      "cell_type": "code",
      "execution_count": null,
      "metadata": {
        "id": "Itxo0FSdld7Y"
      },
      "outputs": [],
      "source": [
        "from transformers import BertModel, BertTokenizer, BertConfig"
      ]
    }
  ]
}